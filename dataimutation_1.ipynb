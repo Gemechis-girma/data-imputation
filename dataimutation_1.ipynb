{
  "nbformat": 4,
  "nbformat_minor": 0,
  "metadata": {
    "colab": {
      "provenance": []
    },
    "kernelspec": {
      "name": "python3",
      "display_name": "Python 3"
    },
    "language_info": {
      "name": "python"
    }
  },
  "cells": [
    {
      "cell_type": "code",
      "execution_count": null,
      "metadata": {
        "colab": {
          "base_uri": "https://localhost:8080/"
        },
        "collapsed": true,
        "id": "xgcsyVzRNB5w",
        "outputId": "32da3850-d891-45d1-fe17-e6ee5a98a44b"
      },
      "outputs": [
        {
          "output_type": "stream",
          "name": "stdout",
          "text": [
            "Collecting fancyimpute\n",
            "  Downloading fancyimpute-0.7.0.tar.gz (25 kB)\n",
            "  Preparing metadata (setup.py) ... \u001b[?25l\u001b[?25hdone\n",
            "Collecting knnimpute>=0.1.0 (from fancyimpute)\n",
            "  Downloading knnimpute-0.1.0.tar.gz (8.3 kB)\n",
            "  Preparing metadata (setup.py) ... \u001b[?25l\u001b[?25hdone\n",
            "Requirement already satisfied: scikit-learn>=0.24.2 in /usr/local/lib/python3.11/dist-packages (from fancyimpute) (1.6.1)\n",
            "Requirement already satisfied: cvxpy in /usr/local/lib/python3.11/dist-packages (from fancyimpute) (1.6.5)\n",
            "Requirement already satisfied: cvxopt in /usr/local/lib/python3.11/dist-packages (from fancyimpute) (1.3.2)\n",
            "Requirement already satisfied: pytest in /usr/local/lib/python3.11/dist-packages (from fancyimpute) (8.3.5)\n",
            "Collecting nose (from fancyimpute)\n",
            "  Downloading nose-1.3.7-py3-none-any.whl.metadata (1.7 kB)\n",
            "Requirement already satisfied: six in /usr/local/lib/python3.11/dist-packages (from knnimpute>=0.1.0->fancyimpute) (1.17.0)\n",
            "Requirement already satisfied: numpy>=1.10 in /usr/local/lib/python3.11/dist-packages (from knnimpute>=0.1.0->fancyimpute) (2.0.2)\n",
            "Requirement already satisfied: scipy>=1.6.0 in /usr/local/lib/python3.11/dist-packages (from scikit-learn>=0.24.2->fancyimpute) (1.14.1)\n",
            "Requirement already satisfied: joblib>=1.2.0 in /usr/local/lib/python3.11/dist-packages (from scikit-learn>=0.24.2->fancyimpute) (1.4.2)\n",
            "Requirement already satisfied: threadpoolctl>=3.1.0 in /usr/local/lib/python3.11/dist-packages (from scikit-learn>=0.24.2->fancyimpute) (3.6.0)\n",
            "Requirement already satisfied: osqp>=0.6.2 in /usr/local/lib/python3.11/dist-packages (from cvxpy->fancyimpute) (1.0.3)\n",
            "Requirement already satisfied: clarabel>=0.5.0 in /usr/local/lib/python3.11/dist-packages (from cvxpy->fancyimpute) (0.10.0)\n",
            "Requirement already satisfied: scs>=3.2.4.post1 in /usr/local/lib/python3.11/dist-packages (from cvxpy->fancyimpute) (3.2.7.post2)\n",
            "Requirement already satisfied: iniconfig in /usr/local/lib/python3.11/dist-packages (from pytest->fancyimpute) (2.1.0)\n",
            "Requirement already satisfied: packaging in /usr/local/lib/python3.11/dist-packages (from pytest->fancyimpute) (24.2)\n",
            "Requirement already satisfied: pluggy<2,>=1.5 in /usr/local/lib/python3.11/dist-packages (from pytest->fancyimpute) (1.5.0)\n",
            "Requirement already satisfied: jinja2 in /usr/local/lib/python3.11/dist-packages (from osqp>=0.6.2->cvxpy->fancyimpute) (3.1.6)\n",
            "Requirement already satisfied: setuptools in /usr/local/lib/python3.11/dist-packages (from osqp>=0.6.2->cvxpy->fancyimpute) (75.2.0)\n",
            "Requirement already satisfied: MarkupSafe>=2.0 in /usr/local/lib/python3.11/dist-packages (from jinja2->osqp>=0.6.2->cvxpy->fancyimpute) (3.0.2)\n",
            "Downloading nose-1.3.7-py3-none-any.whl (154 kB)\n",
            "\u001b[2K   \u001b[90m━━━━━━━━━━━━━━━━━━━━━━━━━━━━━━━━━━━━━━━━\u001b[0m \u001b[32m154.7/154.7 kB\u001b[0m \u001b[31m5.8 MB/s\u001b[0m eta \u001b[36m0:00:00\u001b[0m\n",
            "\u001b[?25hBuilding wheels for collected packages: fancyimpute, knnimpute\n",
            "  Building wheel for fancyimpute (setup.py) ... \u001b[?25l\u001b[?25hdone\n",
            "  Created wheel for fancyimpute: filename=fancyimpute-0.7.0-py3-none-any.whl size=29879 sha256=14518d86df0589464e4000226e9966d8e24cbab146ac79f33987fb65ac7afba4\n",
            "  Stored in directory: /root/.cache/pip/wheels/1a/f3/a1/f7f10b5ae2c2459398762a3fcf4ac18c325311c7e3163d5a15\n",
            "  Building wheel for knnimpute (setup.py) ... \u001b[?25l\u001b[?25hdone\n",
            "  Created wheel for knnimpute: filename=knnimpute-0.1.0-py3-none-any.whl size=11331 sha256=84f5062e402d8d0d40b63b7042141d8461b074c1f78ec381c9d761c0952b58b9\n",
            "  Stored in directory: /root/.cache/pip/wheels/ea/e8/e0/79872972161e54486517ae507f94b2c7cea27fb7ef793bd415\n",
            "Successfully built fancyimpute knnimpute\n",
            "Installing collected packages: nose, knnimpute, fancyimpute\n",
            "Successfully installed fancyimpute-0.7.0 knnimpute-0.1.0 nose-1.3.7\n"
          ]
        }
      ],
      "source": [
        "# Install necessary packages\n",
        "!pip install fancyimpute"
      ]
    },
    {
      "cell_type": "code",
      "source": [
        "# Import libraries\n",
        "import pandas as pd\n",
        "import numpy as np\n",
        "import matplotlib.pyplot as plt\n",
        "from fancyimpute import IterativeImputer\n",
        "\n"
      ],
      "metadata": {
        "id": "WpsOROJeNY1x",
        "colab": {
          "base_uri": "https://localhost:8080/",
          "height": 106
        },
        "outputId": "a623bfe4-1e50-4788-e05b-9ea1dd776be4",
        "collapsed": true
      },
      "execution_count": 11,
      "outputs": [
        {
          "output_type": "error",
          "ename": "SyntaxError",
          "evalue": "invalid syntax (<ipython-input-11-56fd909bba17>, line 5)",
          "traceback": [
            "\u001b[0;36m  File \u001b[0;32m\"<ipython-input-11-56fd909bba17>\"\u001b[0;36m, line \u001b[0;32m5\u001b[0m\n\u001b[0;31m    from fancy impute import IterativeImputer\u001b[0m\n\u001b[0m               ^\u001b[0m\n\u001b[0;31mSyntaxError\u001b[0m\u001b[0;31m:\u001b[0m invalid syntax\n"
          ]
        }
      ]
    },
    {
      "cell_type": "code",
      "source": [
        "# Step 1: Load the dataset\n",
        "url = \"https://archive.ics.uci.edu/ml/machine-learning-databases/spambase/spambase.data\"\n",
        "column_names = [f'V{i}' for i in range(1, 58)] + ['spam']\n",
        "spambase = pd.read_csv(url, header=None, names=column_names)"
      ],
      "metadata": {
        "id": "HiiIXpZENhZK"
      },
      "execution_count": null,
      "outputs": []
    },
    {
      "cell_type": "code",
      "source": [
        "# Step 2: Explore the dataset for missing values\n",
        "print(\"Missing values before imputation:\")\n",
        "print(spambase.isnull().sum())\n"
      ],
      "metadata": {
        "colab": {
          "base_uri": "https://localhost:8080/"
        },
        "id": "l8F-5ljoNoHg",
        "outputId": "2eb62178-c393-4923-f25d-8e56e4436ccb"
      },
      "execution_count": null,
      "outputs": [
        {
          "output_type": "stream",
          "name": "stdout",
          "text": [
            "Missing values before imputation:\n",
            "V1      0\n",
            "V2      0\n",
            "V3      0\n",
            "V4      0\n",
            "V5      0\n",
            "V6      0\n",
            "V7      0\n",
            "V8      0\n",
            "V9      0\n",
            "V10     0\n",
            "V11     0\n",
            "V12     0\n",
            "V13     0\n",
            "V14     0\n",
            "V15     0\n",
            "V16     0\n",
            "V17     0\n",
            "V18     0\n",
            "V19     0\n",
            "V20     0\n",
            "V21     0\n",
            "V22     0\n",
            "V23     0\n",
            "V24     0\n",
            "V25     0\n",
            "V26     0\n",
            "V27     0\n",
            "V28     0\n",
            "V29     0\n",
            "V30     0\n",
            "V31     0\n",
            "V32     0\n",
            "V33     0\n",
            "V34     0\n",
            "V35     0\n",
            "V36     0\n",
            "V37     0\n",
            "V38     0\n",
            "V39     0\n",
            "V40     0\n",
            "V41     0\n",
            "V42     0\n",
            "V43     0\n",
            "V44     0\n",
            "V45     0\n",
            "V46     0\n",
            "V47     0\n",
            "V48     0\n",
            "V49     0\n",
            "V50     0\n",
            "V51     0\n",
            "V52     0\n",
            "V53     0\n",
            "V54     0\n",
            "V55     0\n",
            "V56     0\n",
            "V57     0\n",
            "spam    0\n",
            "dtype: int64\n"
          ]
        }
      ]
    },
    {
      "cell_type": "code",
      "source": [],
      "metadata": {
        "id": "f7uC8f1Q7gm1"
      },
      "execution_count": null,
      "outputs": []
    },
    {
      "cell_type": "code",
      "source": [
        "# Visualize missing data\n",
        "plt.figure(figsize=(10, 6))\n",
        "plt.bar(spambase.columns, spambase.isnull().sum(), color='red')\n",
        "plt.title('Missing Values Before Imputation')\n",
        "plt.xticks(rotation=90)\n",
        "plt.show()"
      ],
      "metadata": {
        "colab": {
          "base_uri": "https://localhost:8080/",
          "height": 569
        },
        "id": "I6XHufIXNtM9",
        "outputId": "b988d91e-7434-4569-a1c1-499399dc4ee5"
      },
      "execution_count": null,
      "outputs": [
        {
          "output_type": "display_data",
          "data": {
            "text/plain": [
              "<Figure size 1000x600 with 1 Axes>"
            ],
            "image/png": "[encoded data removed]"
          },
          "metadata": {}
        }
      ]
    },
    {
      "cell_type": "code",
      "source": [
        "# Step 3: Mean imputation for numeric columns\n",
        "spambase_mean_imputed = spambase.fillna(spambase.mean())"
      ],
      "metadata": {
        "id": "xuUScURxN7PI"
      },
      "execution_count": null,
      "outputs": []
    },
    {
      "cell_type": "code",
      "source": [
        "# Step 4: Predictive Mean Matching (using Iterative Imputer)\n",
        "imputer = IterativeImputer()\n",
        "spambase_pmm_imputed = pd.DataFrame(imputer.fit_transform(spambase), columns=spambase.columns)\n"
      ],
      "metadata": {
        "id": "m9VbUsIiOE3W"
      },
      "execution_count": null,
      "outputs": []
    },
    {
      "cell_type": "code",
      "source": [
        "# Step 5: Compare before and after imputation\n",
        "plt.figure(figsize=(10, 6))\n",
        "plt.bar(spambase.columns, spambase.isnull().sum(), color='red', label='Before Imputation')\n",
        "plt.bar(spambase.columns, spambase_mean_imputed.isnull().sum(), color='green', alpha=0.5, label='After Mean Imputation')\n",
        "plt.bar(spambase.columns, spambase_pmm_imputed.isnull().sum(), color='blue', alpha=0.5, label='After PMM Imputation')\n",
        "plt.title('Missing Values Comparison')\n",
        "plt.xticks(rotation=90)\n",
        "plt.legend()\n",
        "plt.show()\n"
      ],
      "metadata": {
        "colab": {
          "base_uri": "https://localhost:8080/",
          "height": 569
        },
        "id": "iUQKOdJEOMUJ",
        "outputId": "cba1938d-3d9a-44cc-a306-5a5d18a2a946"
      },
      "execution_count": null,
      "outputs": [
        {
          "output_type": "display_data",
          "data": {
            "text/plain": [
              "<Figure size 1000x600 with 1 Axes>"
            ],
            "image/png": "[encoded data removed]"
          },
          "metadata": {}
        }
      ]
    },
    {
      "cell_type": "code",
      "source": [
        "# Summary of imputed datasets\n",
        "print(\"Summary after Mean Imputation:\")\n",
        "print(spambase_mean_imputed.describe())\n",
        "print(\"\\nSummary after PMM Imputation:\")\n",
        "print(spambase_pmm_imputed.describe())"
      ],
      "metadata": {
        "colab": {
          "base_uri": "https://localhost:8080/"
        },
        "id": "C6rmTDGuOVVj",
        "outputId": "85a495c6-6730-4ac6-855d-7d183a7eb808"
      },
      "execution_count": null,
      "outputs": [
        {
          "output_type": "stream",
          "name": "stdout",
          "text": [
            "Summary after Mean Imputation:\n",
            "                V1           V2           V3           V4           V5  \\\n",
            "count  4601.000000  4601.000000  4601.000000  4601.000000  4601.000000   \n",
            "mean      0.104553     0.213015     0.280656     0.065425     0.312223   \n",
            "std       0.305358     1.290575     0.504143     1.395151     0.672513   \n",
            "min       0.000000     0.000000     0.000000     0.000000     0.000000   \n",
            "25%       0.000000     0.000000     0.000000     0.000000     0.000000   \n",
            "50%       0.000000     0.000000     0.000000     0.000000     0.000000   \n",
            "75%       0.000000     0.000000     0.420000     0.000000     0.380000   \n",
            "max       4.540000    14.280000     5.100000    42.810000    10.000000   \n",
            "\n",
            "                V6           V7           V8           V9          V10  ...  \\\n",
            "count  4601.000000  4601.000000  4601.000000  4601.000000  4601.000000  ...   \n",
            "mean      0.095901     0.114208     0.105295     0.090067     0.239413  ...   \n",
            "std       0.273824     0.391441     0.401071     0.278616     0.644755  ...   \n",
            "min       0.000000     0.000000     0.000000     0.000000     0.000000  ...   \n",
            "25%       0.000000     0.000000     0.000000     0.000000     0.000000  ...   \n",
            "50%       0.000000     0.000000     0.000000     0.000000     0.000000  ...   \n",
            "75%       0.000000     0.000000     0.000000     0.000000     0.160000  ...   \n",
            "max       5.880000     7.270000    11.110000     5.260000    18.180000  ...   \n",
            "\n",
            "               V49          V50          V51          V52          V53  \\\n",
            "count  4601.000000  4601.000000  4601.000000  4601.000000  4601.000000   \n",
            "mean      0.038575     0.139030     0.016976     0.269071     0.075811   \n",
            "std       0.243471     0.270355     0.109394     0.815672     0.245882   \n",
            "min       0.000000     0.000000     0.000000     0.000000     0.000000   \n",
            "25%       0.000000     0.000000     0.000000     0.000000     0.000000   \n",
            "50%       0.000000     0.065000     0.000000     0.000000     0.000000   \n",
            "75%       0.000000     0.188000     0.000000     0.315000     0.052000   \n",
            "max       4.385000     9.752000     4.081000    32.478000     6.003000   \n",
            "\n",
            "               V54          V55          V56           V57         spam  \n",
            "count  4601.000000  4601.000000  4601.000000   4601.000000  4601.000000  \n",
            "mean      0.044238     5.191515    52.172789    283.289285     0.394045  \n",
            "std       0.429342    31.729449   194.891310    606.347851     0.488698  \n",
            "min       0.000000     1.000000     1.000000      1.000000     0.000000  \n",
            "25%       0.000000     1.588000     6.000000     35.000000     0.000000  \n",
            "50%       0.000000     2.276000    15.000000     95.000000     0.000000  \n",
            "75%       0.000000     3.706000    43.000000    266.000000     1.000000  \n",
            "max      19.829000  1102.500000  9989.000000  15841.000000     1.000000  \n",
            "\n",
            "[8 rows x 58 columns]\n",
            "\n",
            "Summary after PMM Imputation:\n",
            "                V1           V2           V3           V4           V5  \\\n",
            "count  4601.000000  4601.000000  4601.000000  4601.000000  4601.000000   \n",
            "mean      0.104553     0.213015     0.280656     0.065425     0.312223   \n",
            "std       0.305358     1.290575     0.504143     1.395151     0.672513   \n",
            "min       0.000000     0.000000     0.000000     0.000000     0.000000   \n",
            "25%       0.000000     0.000000     0.000000     0.000000     0.000000   \n",
            "50%       0.000000     0.000000     0.000000     0.000000     0.000000   \n",
            "75%       0.000000     0.000000     0.420000     0.000000     0.380000   \n",
            "max       4.540000    14.280000     5.100000    42.810000    10.000000   \n",
            "\n",
            "                V6           V7           V8           V9          V10  ...  \\\n",
            "count  4601.000000  4601.000000  4601.000000  4601.000000  4601.000000  ...   \n",
            "mean      0.095901     0.114208     0.105295     0.090067     0.239413  ...   \n",
            "std       0.273824     0.391441     0.401071     0.278616     0.644755  ...   \n",
            "min       0.000000     0.000000     0.000000     0.000000     0.000000  ...   \n",
            "25%       0.000000     0.000000     0.000000     0.000000     0.000000  ...   \n",
            "50%       0.000000     0.000000     0.000000     0.000000     0.000000  ...   \n",
            "75%       0.000000     0.000000     0.000000     0.000000     0.160000  ...   \n",
            "max       5.880000     7.270000    11.110000     5.260000    18.180000  ...   \n",
            "\n",
            "               V49          V50          V51          V52          V53  \\\n",
            "count  4601.000000  4601.000000  4601.000000  4601.000000  4601.000000   \n",
            "mean      0.038575     0.139030     0.016976     0.269071     0.075811   \n",
            "std       0.243471     0.270355     0.109394     0.815672     0.245882   \n",
            "min       0.000000     0.000000     0.000000     0.000000     0.000000   \n",
            "25%       0.000000     0.000000     0.000000     0.000000     0.000000   \n",
            "50%       0.000000     0.065000     0.000000     0.000000     0.000000   \n",
            "75%       0.000000     0.188000     0.000000     0.315000     0.052000   \n",
            "max       4.385000     9.752000     4.081000    32.478000     6.003000   \n",
            "\n",
            "               V54          V55          V56           V57         spam  \n",
            "count  4601.000000  4601.000000  4601.000000   4601.000000  4601.000000  \n",
            "mean      0.044238     5.191515    52.172789    283.289285     0.394045  \n",
            "std       0.429342    31.729449   194.891310    606.347851     0.488698  \n",
            "min       0.000000     1.000000     1.000000      1.000000     0.000000  \n",
            "25%       0.000000     1.588000     6.000000     35.000000     0.000000  \n",
            "50%       0.000000     2.276000    15.000000     95.000000     0.000000  \n",
            "75%       0.000000     3.706000    43.000000    266.000000     1.000000  \n",
            "max      19.829000  1102.500000  9989.000000  15841.000000     1.000000  \n",
            "\n",
            "[8 rows x 58 columns]\n"
          ]
        }
      ]
    }
  ]
}